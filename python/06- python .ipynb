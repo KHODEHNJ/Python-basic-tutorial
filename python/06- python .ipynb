{
  "cells": [
    {
      "cell_type": "markdown",
      "source": [
        "Dictionaries in Python\n",
        "\n",
        "Dictionaries in Python are a built-in data structure that allow you to store data in key-value pairs. Unlike lists, where data is accessed by index, in dictionaries data is accessed using keys.\n",
        "Key Features of Dictionaries:\n",
        "\n",
        " Unordered: Dictionaries are unordered collections of items. However, from Python 3.7 onwards, dictionaries maintain the insertion order.\n",
        "\n",
        "  Unique Keys: The keys in a dictionary must be unique. If you add a duplicate key, the latest value will overwrite the previous one.\n",
        "\n",
        "  Fast Access: Dictionaries offer fast lookup for values based on their keys.\n",
        "\n",
        "Creating Dictionaries:\n",
        "\n",
        "Dictionaries can be created using curly braces {} or using the `dict() `constructor."
      ],
      "metadata": {
        "id": "0FbfN7RxrXyT"
      }
    },
    {
      "cell_type": "code",
      "source": [
        "\n",
        "my_dict = {\"name\": \"Alice\", \"age\": 25, \"city\": \"New York\"}\n",
        "\n",
        "# Accessing dictionary values using keys\n",
        "print(my_dict[\"name\"])\n",
        "print(my_dict[\"age\"])\n"
      ],
      "metadata": {
        "id": "OQ8C8KNArkIM",
        "outputId": "bc7fe3bc-a293-49b8-8430-e6823c04e110",
        "colab": {
          "base_uri": "https://localhost:8080/"
        }
      },
      "execution_count": 7,
      "outputs": [
        {
          "output_type": "stream",
          "name": "stdout",
          "text": [
            "Alice\n",
            "25\n"
          ]
        }
      ]
    },
    {
      "cell_type": "markdown",
      "source": [
        "Dictionaries vs Lists:\n",
        "\n",
        "In dictionaries, you access values by keys, while in lists, you access values by indices."
      ],
      "metadata": {
        "id": "OZikwJKgrrKk"
      }
    },
    {
      "cell_type": "code",
      "source": [
        "# List\n",
        "my_list = [10, 20, 30]\n",
        "\n",
        "# Dictionary\n",
        "my_dict = {\"first\": 10, \"second\": 20, \"third\": 30}\n",
        "\n",
        "# Accessing elements\n",
        "print(my_list[1])\n",
        "print(my_dict[\"second\"])\n"
      ],
      "metadata": {
        "id": "TCqv6sfNrtsY",
        "outputId": "9785ece9-d694-47e1-f777-5fd3923780a2",
        "colab": {
          "base_uri": "https://localhost:8080/"
        }
      },
      "execution_count": 9,
      "outputs": [
        {
          "output_type": "stream",
          "name": "stdout",
          "text": [
            "20\n",
            "20\n"
          ]
        }
      ]
    },
    {
      "cell_type": "markdown",
      "source": [
        "How to Create Dictionaries:\n",
        "\n",
        "Dictionaries can be created in two ways:\n",
        "\n",
        "    Using curly braces {}\n",
        "\n",
        "    Using the dict() constructor"
      ],
      "metadata": {
        "id": "R45faFVgrzKe"
      }
    },
    {
      "cell_type": "code",
      "source": [
        "# Using curly braces\n",
        "my_dict = {\"name\": \"Alice\", \"age\": 25}\n",
        "\n",
        "# Using dict() constructor\n",
        "my_dict2 = dict(name=\"Bob\", age=30)\n"
      ],
      "metadata": {
        "id": "SGUjo2yGr0c7"
      },
      "execution_count": 10,
      "outputs": []
    },
    {
      "cell_type": "markdown",
      "source": [
        "Accessing and Modifying Dictionary Items:\n",
        "\n",
        "    Accessing Values: You can access the value associated with a key using my_dict[key].\n",
        "\n",
        "    Modifying Values: You can update a value by re-assigning it to the existing key.\n",
        "\n",
        "    Adding New Key-Value Pairs: You can add new key-value pairs by simply assigning a value to a new key."
      ],
      "metadata": {
        "id": "qxApOJx-r45K"
      }
    },
    {
      "cell_type": "code",
      "source": [
        "# Accessing a value\n",
        "print(my_dict[\"name\"])\n",
        "\n",
        "# Modifying a value\n",
        "my_dict[\"age\"] = 26\n",
        "print(my_dict[\"age\"])\n",
        "\n",
        "# Adding a new key-value pair\n",
        "my_dict[\"city\"] = \"Chicago\"\n",
        "print(my_dict[\"city\"])\n"
      ],
      "metadata": {
        "id": "-YuJPZG3r4MA",
        "outputId": "cfedecb3-9539-4e5e-a4de-aa8bbca354d2",
        "colab": {
          "base_uri": "https://localhost:8080/"
        }
      },
      "execution_count": 12,
      "outputs": [
        {
          "output_type": "stream",
          "name": "stdout",
          "text": [
            "Alice\n",
            "26\n",
            "Chicago\n"
          ]
        }
      ]
    },
    {
      "cell_type": "markdown",
      "source": [
        "Common Dictionary Methods:\n",
        "\n",
        "    keys(): Returns a view of the dictionary’s keys.\n",
        "\n",
        "    values(): Returns a view of the dictionary’s values.\n",
        "\n",
        "    items(): Returns a view of the dictionary’s key-value pairs.\n",
        "\n",
        "    get(): Access a value using the key. Returns None if the key is not found (does not raise an error).\n",
        "\n",
        "    pop(): Removes and returns the value associated with the key."
      ],
      "metadata": {
        "id": "OekWTYzFsCyq"
      }
    },
    {
      "cell_type": "code",
      "source": [
        "print(my_dict.keys())\n",
        "print(my_dict.values())\n",
        "print(my_dict.items())\n",
        "print(my_dict.get(\"city\"))\n",
        "print(my_dict.get(\"country\"))\n"
      ],
      "metadata": {
        "id": "60P0GCSwsEC4",
        "outputId": "10247056-a700-4ea1-efb5-f0a39d4b548b",
        "colab": {
          "base_uri": "https://localhost:8080/"
        }
      },
      "execution_count": 13,
      "outputs": [
        {
          "output_type": "stream",
          "name": "stdout",
          "text": [
            "dict_keys(['name', 'age', 'city'])\n",
            "dict_values(['Alice', 26, 'Chicago'])\n",
            "dict_items([('name', 'Alice'), ('age', 26), ('city', 'Chicago')])\n",
            "Chicago\n",
            "None\n"
          ]
        }
      ]
    }
  ],
  "metadata": {
    "colab": {
      "name": "Welcome To Colab",
      "provenance": []
    },
    "kernelspec": {
      "display_name": "Python 3",
      "name": "python3"
    }
  },
  "nbformat": 4,
  "nbformat_minor": 0
}